{
 "cells": [
  {
   "cell_type": "code",
   "id": "initial_id",
   "metadata": {
    "collapsed": true,
    "ExecuteTime": {
     "end_time": "2025-07-29T06:49:55.271525Z",
     "start_time": "2025-07-29T06:49:51.793190Z"
    }
   },
   "source": [
    "from sklearn.feature_extraction.text import TfidfVectorizer\n",
    "from sklearn.metrics.pairwise import cosine_similarity"
   ],
   "outputs": [],
   "execution_count": 1
  },
  {
   "metadata": {
    "ExecuteTime": {
     "end_time": "2025-07-29T06:50:28.346708Z",
     "start_time": "2025-07-29T06:50:28.343448Z"
    }
   },
   "cell_type": "code",
   "source": "decs = [\"Machine learning and AI\", \"Deep learning in AI\", \"Romantic Poetry and Love\"]",
   "id": "d8dc2452841fa23",
   "outputs": [],
   "execution_count": 3
  },
  {
   "metadata": {
    "ExecuteTime": {
     "end_time": "2025-07-29T06:50:56.511917Z",
     "start_time": "2025-07-29T06:50:56.494262Z"
    }
   },
   "cell_type": "code",
   "source": [
    "Vectorizer = TfidfVectorizer()\n",
    "tfidf_matrix = Vectorizer.fit_transform(decs)"
   ],
   "id": "f3649af720320407",
   "outputs": [],
   "execution_count": 4
  },
  {
   "metadata": {
    "ExecuteTime": {
     "end_time": "2025-07-29T06:51:07.750784Z",
     "start_time": "2025-07-29T06:51:07.741042Z"
    }
   },
   "cell_type": "code",
   "source": "similarity = cosine_similarity(tfidf_matrix)",
   "id": "5041d427bd0b89df",
   "outputs": [],
   "execution_count": 5
  },
  {
   "metadata": {
    "ExecuteTime": {
     "end_time": "2025-07-29T06:51:22.615162Z",
     "start_time": "2025-07-29T06:51:22.596991Z"
    }
   },
   "cell_type": "code",
   "source": [
    "import pandas as pd\n",
    "df = pd.DataFrame(similarity, columns=['Doc1', 'Doc2', 'Doc3'], index=['Doc1', 'Doc2', 'Doc3'])\n",
    "print(df)"
   ],
   "id": "40775da4ac1384ab",
   "outputs": [
    {
     "name": "stdout",
     "output_type": "stream",
     "text": [
      "          Doc1      Doc2     Doc3\n",
      "Doc1  1.000000  0.393677  0.18488\n",
      "Doc2  0.393677  1.000000  0.00000\n",
      "Doc3  0.184880  0.000000  1.00000\n"
     ]
    }
   ],
   "execution_count": 6
  },
  {
   "metadata": {},
   "cell_type": "code",
   "outputs": [],
   "execution_count": null,
   "source": "",
   "id": "e0e4eb6462f8b75f"
  }
 ],
 "metadata": {
  "kernelspec": {
   "display_name": "Python 3",
   "language": "python",
   "name": "python3"
  },
  "language_info": {
   "codemirror_mode": {
    "name": "ipython",
    "version": 2
   },
   "file_extension": ".py",
   "mimetype": "text/x-python",
   "name": "python",
   "nbconvert_exporter": "python",
   "pygments_lexer": "ipython2",
   "version": "2.7.6"
  }
 },
 "nbformat": 4,
 "nbformat_minor": 5
}
